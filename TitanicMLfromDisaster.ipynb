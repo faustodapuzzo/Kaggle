{
 "cells": [
  {
   "cell_type": "code",
   "execution_count": 1,
   "metadata": {
    "collapsed": true
   },
   "outputs": [],
   "source": [
    "import csv\n",
    "import numpy as np\n",
    "import matplotlib.pyplot as plt\n",
    "from sklearn.linear_model import LogisticRegression as LR\n",
    "import pandas as pd\n",
    "%matplotlib inline"
   ]
  },
  {
   "cell_type": "code",
   "execution_count": null,
   "metadata": {
    "collapsed": false
   },
   "outputs": [],
   "source": [
    "df = pd.read_csv(r'C:\\Users\\Fausto\\Downloads\\train.csv', header=0)\n",
    "#df.Survived.hist()\n",
    "df['Gender'] = df['Sex'].map( {'female': 0, 'male': 1} ).astype(float)\n",
    "\n",
    "median_ages = np.zeros((2, 3))\n",
    "median_fares = np.zeros((2, 3))\n",
    "for i in range(2):\n",
    "    for j in range(3):\n",
    "        median_ages[i,j] = df[(df['Gender'] == i) & \\\n",
    "                              (df['Pclass'] == j+1)]['Age'].dropna().median()\n",
    "        median_fares[i,j] = df[(df['Gender'] == i) & \\\n",
    "                              (df['Pclass'] == j+1)]['Fare'].dropna().median()\n",
    "\n",
    "df['AgeFill'] = df['Age']\n",
    "for i in range(0, 2):\n",
    "    for j in range(0, 3):\n",
    "        df.loc[ (df.Age.isnull()) & (df.Gender == i) & (df.Pclass == j+1),\\\n",
    "                'AgeFill'] = median_ages[i,j]\n",
    "        \n",
    "df['Cheerburg'] = np.float64(df['Embarked'] == 'C')\n",
    "df['Queenstown'] = np.float64(df['Embarked'] == 'Q')\n",
    "df['South Hampton'] = np.float64(df['Embarked'] == 'S')\n",
    "df['hasCabin'] = np.float64(df['Cabin'] == df['Cabin'])\n",
    "df['PassengerId'] = np.float64(df['PassengerId'])\n",
    "df['Survived'] = np.float64(df['Survived'])\n",
    "df['Pclass'] = np.float64(df['Pclass'])\n",
    "df['SibSp'] = np.float64(df['SibSp'])\n",
    "df['Parch'] = np.float64(df['Parch'])\n",
    "\n",
    "df = df.drop(['Name', 'Sex', 'Ticket', 'Cabin', 'Embarked', 'Age', 'PassengerId'], axis=1) \n",
    "m = np.shape(df['Survived'])\n",
    "train_data = np.reshape(df['Survived'], max(m))\n",
    "\n",
    "for key in df.keys():\n",
    "    if not key == 'Survived':\n",
    "        train_data = np.vstack((train_data, df[key]))\n",
    "train_data = np.transpose(train_data)"
   ]
  },
  {
   "cell_type": "code",
   "execution_count": 28,
   "metadata": {
    "collapsed": true
   },
   "outputs": [],
   "source": [
    "lr = LR(C=100)\n",
    "lr = lr.fit(train_data[:, 1:], train_data[:, 0])"
   ]
  },
  {
   "cell_type": "code",
   "execution_count": 31,
   "metadata": {
    "collapsed": false
   },
   "outputs": [
    {
     "data": {
      "text/plain": [
       "0.813692480359147"
      ]
     },
     "execution_count": 31,
     "metadata": {},
     "output_type": "execute_result"
    }
   ],
   "source": [
    "correct = 0\n",
    "for i in range(len(train_data[:, 0])):\n",
    "    correct = correct + np.int64(lr.predict(train_data[i][1:].reshape(1, -1)) == train_data[i][0])\n",
    "\n",
    "float(correct)/len(train_data[:, 0])"
   ]
  },
  {
   "cell_type": "code",
   "execution_count": 88,
   "metadata": {
    "collapsed": false
   },
   "outputs": [],
   "source": [
    "df_test = pd.read_csv(r'C:\\Users\\Fausto\\Downloads\\test.csv', header=0)\n",
    "\n",
    "df_test['Gender'] = df_test['Sex'].map( {'female': 0, 'male': 1} ).astype(float)\n",
    "df_test['AgeFill'] = df_test['Age'] \n",
    "df_test['FareFill'] = df_test['Fare']"
   ]
  },
  {
   "cell_type": "code",
   "execution_count": 89,
   "metadata": {
    "collapsed": true
   },
   "outputs": [],
   "source": [
    "for i in range(0, 2):\n",
    "    for j in range(0, 3):\n",
    "        df_test.loc[ (df_test.Age.isnull()) & (df_test.Gender == i) & (df_test.Pclass == j+1),\\\n",
    "                'AgeFill'] = median_ages[i,j]\n",
    "        df_test.loc[ (df_test.Fare.isnull()) & (df_test.Gender == i) & (df_test.Pclass == j+1),\\\n",
    "                'FareFill'] = median_fares[i,j]\n",
    "        \n",
    "df_test['Cheerburg'] = np.float64(df_test['Embarked'] == 'C')\n",
    "df_test['Queenstown'] = np.float64(df_test['Embarked'] == 'Q')\n",
    "df_test['South Hampton'] = np.float64(df_test['Embarked'] == 'S')\n",
    "df_test['hasCabin'] = np.float64(df_test['Cabin'] == df_test['Cabin'])\n",
    "df_test['PassengerId'] = np.float64(df_test['PassengerId'])\n",
    "df_test['Pclass'] = np.float64(df_test['Pclass'])\n",
    "df_test['SibSp'] = np.float64(df_test['SibSp'])\n",
    "df_test['Parch'] = np.float64(df_test['Parch'])\n",
    "passengerID = df_test['PassengerId']\n",
    "df_test = df_test.drop(['Name', 'Sex', 'Ticket', 'Cabin', 'Embarked', 'Age', 'PassengerId', 'Fare'],\\\n",
    "                       axis=1) \n"
   ]
  },
  {
   "cell_type": "code",
   "execution_count": 103,
   "metadata": {
    "collapsed": false
   },
   "outputs": [],
   "source": [
    "cols = df_test.columns.tolist()\n",
    "cols[3] = cols[5]\n",
    "cols[5] = cols[4]\n",
    "cols[4] = 'Gender'"
   ]
  },
  {
   "cell_type": "code",
   "execution_count": 104,
   "metadata": {
    "collapsed": false
   },
   "outputs": [
    {
     "data": {
      "text/html": [
       "<div>\n",
       "<table border=\"1\" class=\"dataframe\">\n",
       "  <thead>\n",
       "    <tr style=\"text-align: right;\">\n",
       "      <th></th>\n",
       "      <th>Survived</th>\n",
       "      <th>Pclass</th>\n",
       "      <th>SibSp</th>\n",
       "      <th>Parch</th>\n",
       "      <th>Fare</th>\n",
       "      <th>Gender</th>\n",
       "      <th>AgeFill</th>\n",
       "      <th>Cheerburg</th>\n",
       "      <th>Queenstown</th>\n",
       "      <th>South Hampton</th>\n",
       "      <th>hasCabin</th>\n",
       "    </tr>\n",
       "  </thead>\n",
       "  <tbody>\n",
       "    <tr>\n",
       "      <th>0</th>\n",
       "      <td>0.0</td>\n",
       "      <td>3.0</td>\n",
       "      <td>1.0</td>\n",
       "      <td>0.0</td>\n",
       "      <td>7.2500</td>\n",
       "      <td>1.0</td>\n",
       "      <td>22.0</td>\n",
       "      <td>0.0</td>\n",
       "      <td>0.0</td>\n",
       "      <td>1.0</td>\n",
       "      <td>0.0</td>\n",
       "    </tr>\n",
       "    <tr>\n",
       "      <th>1</th>\n",
       "      <td>1.0</td>\n",
       "      <td>1.0</td>\n",
       "      <td>1.0</td>\n",
       "      <td>0.0</td>\n",
       "      <td>71.2833</td>\n",
       "      <td>0.0</td>\n",
       "      <td>38.0</td>\n",
       "      <td>1.0</td>\n",
       "      <td>0.0</td>\n",
       "      <td>0.0</td>\n",
       "      <td>1.0</td>\n",
       "    </tr>\n",
       "    <tr>\n",
       "      <th>2</th>\n",
       "      <td>1.0</td>\n",
       "      <td>3.0</td>\n",
       "      <td>0.0</td>\n",
       "      <td>0.0</td>\n",
       "      <td>7.9250</td>\n",
       "      <td>0.0</td>\n",
       "      <td>26.0</td>\n",
       "      <td>0.0</td>\n",
       "      <td>0.0</td>\n",
       "      <td>1.0</td>\n",
       "      <td>0.0</td>\n",
       "    </tr>\n",
       "  </tbody>\n",
       "</table>\n",
       "</div>"
      ],
      "text/plain": [
       "   Survived  Pclass  SibSp  Parch     Fare  Gender  AgeFill  Cheerburg  \\\n",
       "0       0.0     3.0    1.0    0.0   7.2500     1.0     22.0        0.0   \n",
       "1       1.0     1.0    1.0    0.0  71.2833     0.0     38.0        1.0   \n",
       "2       1.0     3.0    0.0    0.0   7.9250     0.0     26.0        0.0   \n",
       "\n",
       "   Queenstown  South Hampton  hasCabin  \n",
       "0         0.0            1.0       0.0  \n",
       "1         0.0            0.0       1.0  \n",
       "2         0.0            1.0       0.0  "
      ]
     },
     "execution_count": 104,
     "metadata": {},
     "output_type": "execute_result"
    }
   ],
   "source": [
    "df_test = df_test[cols]\n",
    "df[:3]"
   ]
  },
  {
   "cell_type": "code",
   "execution_count": 105,
   "metadata": {
    "collapsed": true
   },
   "outputs": [],
   "source": [
    "test_data = df_test['Pclass']\n",
    "for key in df_test.keys():\n",
    "    if not key == 'Pclass':\n",
    "        test_data = np.vstack((test_data, df_test[key]))"
   ]
  },
  {
   "cell_type": "code",
   "execution_count": 115,
   "metadata": {
    "collapsed": false
   },
   "outputs": [
    {
     "data": {
      "text/plain": [
       "(10, 418)"
      ]
     },
     "execution_count": 115,
     "metadata": {},
     "output_type": "execute_result"
    }
   ],
   "source": [
    "np.shape(test_data)"
   ]
  },
  {
   "cell_type": "code",
   "execution_count": 116,
   "metadata": {
    "collapsed": false
   },
   "outputs": [],
   "source": [
    "#predictions\n",
    "test_prediction = np.zeros(max(m))\n",
    "for i in range(max(m)):\n",
    "    test_prediction[i] = np.int64(lr.predict(test_data[:,i].reshape(1, min(m))))"
   ]
  },
  {
   "cell_type": "code",
   "execution_count": 119,
   "metadata": {
    "collapsed": true
   },
   "outputs": [],
   "source": [
    "test_prediction = np.vstack((passengerID, test_prediction))\n",
    "test_prediction = np.transpose(test_prediction)\n",
    "test_prediction = np.int64(test_prediction)"
   ]
  },
  {
   "cell_type": "code",
   "execution_count": 122,
   "metadata": {
    "collapsed": true
   },
   "outputs": [],
   "source": [
    "np.savetxt('/Users/Fausto/Downloads/predictions.csv', test_prediction, delimiter=',' \\\n",
    "           , header='PassengerId,Survived', fmt = '%d')"
   ]
  }
 ],
 "metadata": {
  "kernelspec": {
   "display_name": "Python 3",
   "language": "python",
   "name": "python3"
  },
  "language_info": {
   "codemirror_mode": {
    "name": "ipython",
    "version": 3
   },
   "file_extension": ".py",
   "mimetype": "text/x-python",
   "name": "python",
   "nbconvert_exporter": "python",
   "pygments_lexer": "ipython3",
   "version": "3.6.0"
  }
 },
 "nbformat": 4,
 "nbformat_minor": 2
}
